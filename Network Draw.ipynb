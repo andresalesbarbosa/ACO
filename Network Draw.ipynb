{
 "cells": [
  {
   "cell_type": "code",
   "execution_count": null,
   "metadata": {
    "collapsed": true
   },
   "outputs": [],
   "source": [
    "%matplotlib inline\n",
    "import matplotlib.pylab as mpl\n",
    "import matplotlib.pyplot as mpl2\n",
    "import networkx as nx #http://networkx.github.io/documentation/latest/reference\n",
    "import time\n",
    "\n",
    "G=nx.Graph()\n",
    "H=nx.Graph()\n",
    "\n",
    "#def from implemented to NetworkX.Graph\n",
    "#graph1 = Graph(5)\n",
    "#graph1.generateRandom()\n",
    "\n",
    "#for k in graph1.edges:\n",
    "#    x,y = k\n",
    "#    c = graph1.getCostEdge(x,y)\n",
    "#    G.add_edge(x,y,weight=c)\n",
    "    \n",
    "G.add_edge('a','b',weight=1)\n",
    "G.add_edge('a','c',weight=2)\n",
    "G.add_edge('c','d',weight=1)\n",
    "G.add_edge('c','e',weight=4)\n",
    "G.add_edge('c','f',weight=8)\n",
    "G.add_edge('d','a',weight=9)\n",
    "\n",
    "H.add_edge('a','b',weight=7)\n",
    "H.add_edge('a','c',weight=6)\n",
    "H.add_edge('c','d',weight=3)\n",
    "H.add_edge('c','e',weight=5)\n",
    "H.add_edge('a','f',weight=2)\n",
    "H.add_edge('d','a',weight=8)\n",
    "\n",
    "edgelist = [('a','c'),('c','d'),('d','a')]\n",
    "edgelist2 = [('a','b'),('c','d'),('c','f')]\n",
    "\n",
    "# nodes G,\n",
    "\n",
    "pos=nx.spring_layout(G,scale=2)\n",
    "nx.draw_networkx_nodes(G,pos,node_size=900,hold=1)\n",
    "nx.draw_networkx_edges(G,pos, width=4,alpha=0.2)\n",
    "nx.draw_networkx_labels(G,pos)\n",
    "i =0\n",
    "while(i < 5):   \n",
    "    nx.draw_networkx_edges(G,pos, edgelist=edgelist,width=4,alpha=0.5,hold=1)\n",
    "    name = \"fig\"+str(i)\n",
    "    mpl.savefig(name)\n",
    "    i+=1\n",
    "#nx.draw_networkx_edges(G,pos, edgelist=edgelist,width=4,alpha=0.5)\n",
    "#nx.draw_networkx_edges(G,pos, edgelist=edgelist2,width=4,alpha=0.5)\n",
    "\n",
    "\n",
    "\n",
    "#nx.draw_networkx_nodes(H,pos,node_size=500,node_color='b')\n",
    "#nx.draw_networkx_edges(H,pos, width=6,alpha=0.2)\n",
    "\n",
    "mpl2.show()"
   ]
  }
 ],
 "metadata": {
  "kernelspec": {
   "display_name": "Python 3",
   "language": "python",
   "name": "python3"
  },
  "language_info": {
   "codemirror_mode": {
    "name": "ipython",
    "version": 3
   },
   "file_extension": ".py",
   "mimetype": "text/x-python",
   "name": "python",
   "nbconvert_exporter": "python",
   "pygments_lexer": "ipython3",
   "version": "3.4.3"
  }
 },
 "nbformat": 4,
 "nbformat_minor": 0
}
