{
 "cells": [
  {
   "cell_type": "markdown",
   "metadata": {},
   "source": [
    "# Step by step analysis of Ant Colony Simulations\n",
    "\n",
    "**First Step** to read and clean the data turn it in a DataFrame"
   ]
  },
  {
   "cell_type": "code",
   "execution_count": null,
   "metadata": {
    "collapsed": true
   },
   "outputs": [],
   "source": [
    "#importing needed libraries\n",
    "# DataFrame library\n",
    "import pandas as pd\n",
    "# numerical library\n",
    "import numpy as np\n",
    "# Scientifical library\n",
    "import scipy as sp\n",
    "# Statistical Library with R notation for Linear Models\n",
    "import statsmodels.formula.api as smf\n",
    "\n",
    "import matplotlib.pyplot as plt\n",
    "%matplotlib inline\n",
    "\n",
    "#Creating the pandas DataFrame from csv file\n",
    "df = pd.read_csv(\"burma14.csv\")\n",
    "#cleaning cells with Not Available data, or erased cell\n",
    "clean = df.dropna()\n",
    "#Creating a column with exceeding distance from optimal result\n",
    "clean.loc[:,'delta'] = clean.loc[:,'distance'] - 3323\n",
    "#Creating column with exceeding percentage from optimal result\n",
    "clean.loc[:,'%delta'] = clean.loc[:,'delta']/3323"
   ]
  },
  {
   "cell_type": "markdown",
   "metadata": {},
   "source": [
    "**Second Step** create hexagram of the columns\n",
    "Answering the question: *How many times each value of a parameter got to optimal result*\n",
    "\n",
    "With a hexagram we answer the general question: \"How many times each value y was found by each value x\"\n",
    "and this is displayed by intensity of color, a colorbar is displayed by side to help analyze it"
   ]
  },
  {
   "cell_type": "code",
   "execution_count": null,
   "metadata": {
    "collapsed": true
   },
   "outputs": [],
   "source": [
    "#iterate through each parameter column\n",
    "for name in clean.columns:\n",
    "    # since we are interested in the relation between distance and another parameter, those relative columns\n",
    "    # are excluded from analysis\n",
    "    if name in ['distance','ID','delta','%delta'] :\n",
    "        continue\n",
    "    # create figure\n",
    "    fig, ax = plt.subplots(figsize=(8,6))\n",
    "    # create plot type and change setup\n",
    "    d = ax.hexbin(clean[name],clean['distance'], cmap=plt.cm.Blues, alpha=0.8)\n",
    "    plt.xlabel(name,fontsize=14)\n",
    "    plt.ylabel('Distance in Km',fontsize=14)\n",
    "    plt.title('Hexbin of times distance X was reached with parameter '+name,fontsize=14)\n",
    "    cb = fig.colorbar(d)\n",
    "    cb.set_label('number of times',fontsize=14)\n",
    "    fig.savefig('plot_hexbin_'+name+'.png')"
   ]
  },
  {
   "cell_type": "markdown",
   "metadata": {},
   "source": [
    "**Second Step - Refining** Repeat hexagrams\n",
    "\n",
    "After analizing the result, we can see a lot of good results already, but the final answer is still obscure\n",
    "since the results are similar to a few values.\n",
    "\n",
    "To reduce it we are increasing the **minimum** value, this way only after the count reach this minimum we display it"
   ]
  },
  {
   "cell_type": "code",
   "execution_count": null,
   "metadata": {
    "collapsed": true
   },
   "outputs": [],
   "source": [
    "for name in clean.columns:\n",
    "    if name in ['distance','ID','delta','%delta'] :\n",
    "        continue\n",
    "    fig, ax = plt.subplots(figsize=(8,6))\n",
    "    \n",
    "    # change point\n",
    "    # before we only plotted the hexagram, without tuning\n",
    "    # this time we set the minimal count parameter, so we only display values after it\n",
    "    # we set it different based on the results\n",
    "    if name == 'alpha':\n",
    "        d = ax.hexbin(clean[name],clean['distance'],mincnt=8000, cmap=plt.cm.Blues)\n",
    "    elif name == 'limit':\n",
    "        d = ax.hexbin(clean[name],clean['distance'],mincnt=48000, cmap=plt.cm.Blues)\n",
    "    else:\n",
    "        d = ax.hexbin(clean[name],clean['distance'],mincnt=18000, cmap=plt.cm.Blues)\n",
    "        \n",
    "    plt.xlabel(name,fontsize=14)\n",
    "    plt.ylabel('Distance in Km',fontsize=14)\n",
    "    plt.title('Hexbin of times distance X was reached with parameter '+name,fontsize=14)\n",
    "    cb = fig.colorbar(d)\n",
    "    cb.set_label('number of times',fontsize=14)\n",
    "    fig.savefig('plot_hexbin_10k_'+name+'.png')"
   ]
  },
  {
   "cell_type": "markdown",
   "metadata": {},
   "source": [
    "**Third Step** Statistical Analysis\n",
    "\n",
    "The idea in the previous steps were to gain information about this phenomenon, what is happening, is it replicable, when does it happens, how does it happens. Those kind of question were answered, at least in part. Now remains the question, **_why_**?\n",
    "\n",
    "And now we try to answer it. With some statistical tools we try to gain knowledge about this phenomenon\n",
    "\n",
    "1) Linear Model 1 variable\n",
    "Our first try is to see how every parameter answer as a LM, we seek something like\n",
    "\n",
    "```\n",
    "y = a*x + b\n",
    "```\n",
    "This code show as y as variable dependable of x by a scale of a with an error of b\n",
    "\n",
    "We are intereted in 3 values: \n",
    "* The parameter value it self, in our exemple the value a\n",
    "* The P-value, it shows the statistical significance of our parameter, in simple words: 'Is my value random?'\n",
    "* The R^2 value, it shows how much this LM can explain my data\n",
    "* The Correlation between our parameter and the distance, if the parameter increase 1 point what happens to the distance?"
   ]
  },
  {
   "cell_type": "code",
   "execution_count": null,
   "metadata": {
    "collapsed": true
   },
   "outputs": [],
   "source": [
    "# auxiliar array\n",
    "aux = []\n",
    "# same trick to ignore ours parameters\n",
    "for name in clean.columns:\n",
    "    if name in ['distance','ID','beta','delta','%delta'] :\n",
    "        continue\n",
    "    \n",
    "    # formula for the linear model\n",
    "    # this notation can be read as \n",
    "    # distance is proportional to parameter name\n",
    "    # we are interested in find this proportion\n",
    "    formula = \"Q('distance') ~ Q('\"+name+\"')\"\n",
    "    model = smf.ols(formula,data=clean)\n",
    "    # if the Number of OBServations is lower than ha\n",
    "    if model.nobs < len(clean)/2:\n",
    "        continue\n",
    "        \n",
    "    results = model.fit()\n",
    "    \n",
    "    #insert R^2 values in aux array with the parameter name\n",
    "    aux.append((results.rsquared, name))\n",
    "    #The Real Values of the Parameters\n",
    "    print(results.params)\n",
    "    #The P-value between 0 and 1, 0 is better\n",
    "    print(results.pvalues)\n",
    "    print(' ')\n",
    "    #Pearson Correlation - Correlation\n",
    "    print('pearson correlation distance and '+name,clean[name].corr(clean['distance'],method='pearson'))\n",
    "    \n",
    "    # Spearman Correlation - Correlation - with more robust approach to non linearity\n",
    "    print('spearman correlation distance and '+name,clean[name].corr(clean['distance'],method='spearman'))\n",
    "    print(' ')\n",
    "\n",
    "    \n",
    "#rank the array from greatest to lowest\n",
    "aux.sort(reverse=True)\n",
    "for mse,name in t:\n",
    "    print(name,mse)"
   ]
  }
 ],
 "metadata": {
  "kernelspec": {
   "display_name": "Python 3",
   "language": "python",
   "name": "python3"
  },
  "language_info": {
   "codemirror_mode": {
    "name": "ipython",
    "version": 3
   },
   "file_extension": ".py",
   "mimetype": "text/x-python",
   "name": "python",
   "nbconvert_exporter": "python",
   "pygments_lexer": "ipython3",
   "version": "3.4.4"
  }
 },
 "nbformat": 4,
 "nbformat_minor": 0
}
